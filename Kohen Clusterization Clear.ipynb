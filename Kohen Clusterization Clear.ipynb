{
 "cells": [
  {
   "cell_type": "markdown",
   "metadata": {
    "id": "w1F9SBiZR42l"
   },
   "source": [
    "# Сеть Кохонена"
   ]
  },
  {
   "cell_type": "markdown",
   "metadata": {},
   "source": [
    "## Теория"
   ]
  },
  {
   "cell_type": "markdown",
   "metadata": {},
   "source": [
    "### Определение"
   ]
  },
  {
   "cell_type": "markdown",
   "metadata": {},
   "source": [
    "Нейронная сеть Кохонена -- класс нейронных сетей, основным элементом которых является слой Кохонена, работающий по принципу \"Победитель получает всё\", т.е. на любой входной сигнал активируется только один нейрон. Нейрон имеет вектор весов с длинной равмым размерности пространства, фактически нейрон является точкой в пространтсве. Нейрон победитель определяется путём выбора ближайшего нейрона к образцу, соответсвенно образцу назначается кластер нейрона. В качестве меры близости зачастую выбирается евклидово растояние\n",
    "\n"
   ]
  },
  {
   "cell_type": "markdown",
   "metadata": {},
   "source": [
    "### Обучение сети"
   ]
  },
  {
   "cell_type": "markdown",
   "metadata": {},
   "source": [
    "#### Алгоритм обучения "
   ]
  },
  {
   "cell_type": "markdown",
   "metadata": {},
   "source": [
    "* Инициализируются веса\n",
    "* В цикле по количеству эпох\n",
    "* * Для каждого образца\n",
    "* * * Выбор нейрона победителя ( ближайшего )\n",
    "* * * Обновить его веса"
   ]
  },
  {
   "cell_type": "markdown",
   "metadata": {},
   "source": [
    "Нейрон победитель выбирается ближайший к образцу, однако с целью уменьшения вероятности переобучения используется механизм регуляции, он представляет собой ограничение на максимальное количество побед нейроном до 1"
   ]
  },
  {
   "cell_type": "markdown",
   "metadata": {},
   "source": [
    "Ещё одно средство контроля процесса обучения это ввода коэффициента скорости обучения, или меры инертности. В базовой реализации веса нейрона принимаются равными вектору координат обучающего образца, однако это может приводить к слишком большим изменениям весов нейронов, и как следствие снижению качества обучения."
   ]
  },
  {
   "cell_type": "markdown",
   "metadata": {},
   "source": [
    "#### Проверка качества результата "
   ]
  },
  {
   "cell_type": "markdown",
   "metadata": {},
   "source": [
    "Для оценки качества кластеризации использовался коэффициент силуэта\n",
    "\n",
    "Коэффициент силуэта является примером такой оценки, где более высокий показатель коэффициента силуэта относится к модели с лучше определенными кластерами. Коэффициент силуэта определяется для каждого образца и состоит из отношения разницы среднего растояния от образца до других в его кластере к среднему расстоянию до образцов в ближайшем кластере к максимальному из данных величин\n",
    "\n",
    "Оценка ограничена между -1 для неправильной кластеризации и +1 для очень плотной кластеризации. Оценки около нуля указывают на перекрывающиеся кластеры.\n",
    "\n",
    "Оценка выше, когда кластеры плотные и хорошо разделены, что соответствует стандартной концепции кластера."
   ]
  },
  {
   "cell_type": "markdown",
   "metadata": {},
   "source": [
    "## Реализация сети"
   ]
  },
  {
   "cell_type": "code",
   "execution_count": 1,
   "metadata": {
    "id": "KNUcLJ7_y6kl"
   },
   "outputs": [],
   "source": [
    "import numpy as np\n",
    "from sklearn.preprocessing import MinMaxScaler\n",
    "\n",
    "\n",
    "def euclid_dist(a, b):\n",
    "    return np.linalg.norm(a - b)\n",
    "\n",
    "\n",
    "class Kohen:\n",
    "    def __init__(self, c_num, dist_metric, speed=0.5, random_seed=None):\n",
    "        np.random.seed(random_seed)  # для повторяемости\n",
    "\n",
    "        self.c_num = c_num  # количество нейронов, максимального количества кластеров\n",
    "        self.dist = dist_metric  # метрика расстояния\n",
    "        self.speed = speed  # скорость обучения\n",
    "\n",
    "        self.neurons = None  # \n",
    "        self.labels = None\n",
    "        # для лучшего обучения данные масштабируются, данный объект позволит сохранить данные об обучащией выборке\n",
    "        # для преобразования образцов во время работы модели на образцах, не включённых в обучающую выборку\n",
    "        self.scaler = MinMaxScaler()\n",
    "\n",
    "    def fit(self, data, epoch: int):\n",
    "        x = self.scaler.fit_transform(data)\n",
    "        self.neurons = np.random.random((self.c_num, x.shape[1]))  # инициализация весов\n",
    "        self.labels = list(range(self.c_num))\n",
    "        idx_sequence = [i for i in range(len(x))]  # для изменения порядка образцов на каждой эпохе\n",
    "        for e in range(epoch):\n",
    "            np.random.shuffle(idx_sequence)\n",
    "            for idx in idx_sequence:\n",
    "                win_idx = 0\n",
    "                last_win = 0\n",
    "                for i in range(len(self.neurons)):\n",
    "                    if self.dist(x[idx], self.neurons[win_idx]) < self.dist(x[idx], self.neurons[i]):\n",
    "                        if i == last_win:  # чтобы один победитель не был два раза/ регуляция\n",
    "                            continue\n",
    "                        else:\n",
    "                            win_idx = i\n",
    "                last_win = win_idx\n",
    "                self.clusters[win_idx] =  (1 - self.speed) * self.clusters[win_idx] + self.speed * (x[idx] - self.clusters[win_idx])  # обновление весов\n",
    "\n",
    "\n",
    "    def pred(self, x):\n",
    "        scal_x = self.scaler.transform(x.reshape(1, -1))\n",
    "        \n",
    "        return max(self.labels, key=lambda c: self.dist(scal_x, self.neurons[c]))"
   ]
  },
  {
   "cell_type": "markdown",
   "metadata": {},
   "source": [
    "## Функция для обучения сетей и выбора лучшей "
   ]
  },
  {
   "cell_type": "code",
   "execution_count": 19,
   "metadata": {},
   "outputs": [],
   "source": [
    "from sklearn import metrics\n",
    "\n",
    "def train(x, neuro=(2,10), speed=(0.3, 0.4, 0.5, 0.6, 0.7, 0.8), epoch=(2,12), count=7):\n",
    "    \"\"\"В данной функции происходит обучение множества моделей с перебором всех возможных комбинаций параметров\n",
    "    \n",
    "    также для каждого набора параметров происходит обучение нескольких моделей, так как один из гиперпараметров\n",
    "    это начальные значения весовых коэффициентов, которые при создании модели задаются случайным образом\n",
    "    метрика качества -- оценка силуэта.\"\"\"\n",
    "    import time\n",
    "    min_neuro = neuro[0]\n",
    "    max_neuro = neuro[1]\n",
    "    min_epoch = epoch[0]\n",
    "    max_epoch = epoch[1]\n",
    "    res = {}\n",
    "    t = time.localtime()\n",
    "    print(f'start time is: {t.tm_hour}:{t.tm_min}:{t.tm_sec}')\n",
    "    for neuron_count in range(min_neuro, max_neuro+1):\n",
    "        k_arr = []\n",
    "        for s in speed:\n",
    "            for e in range(min_epoch, max_epoch+1):\n",
    "                for _ in range(count):\n",
    "                    k = Kohen(neuron_count, euclid_dist, random_seed=None, speed=s)\n",
    "                    k.fit(data=x, epoch=e)\n",
    "                    res_labels = list(map(k.pred, x))\n",
    "                    try:  # модель может переобучиться и мы получим один кластер, что вызовет ошибку вычисления силуэта\n",
    "                        score = metrics.silhouette_score(x, res_labels)\n",
    "                    except ValueError:\n",
    "                        score = 0\n",
    "                    k_arr.append([score, (e, s), k])\n",
    "        best_k = max(k_arr, key=lambda x: x[0])\n",
    "        # выбор уникальных кластеров, т.к количество нейронов не означет, что кластеров будет столько\n",
    "        k = best_k[2]\n",
    "        nunique = len(set(map(k.pred, x)))\n",
    "        best_k.append(nunique)\n",
    "        res[neuron_count] = best_k\n",
    "        t = time.localtime()\n",
    "        print(f'нейронов: {neuron_count} || метрика: {best_k[0]} || (эпоха, скорость): {best_k[1]} || уникальных кластеров: {best_k[3]} || ({t.tm_hour}:{t.tm_min}:{t.tm_sec})')\n",
    "    return res"
   ]
  },
  {
   "cell_type": "markdown",
   "metadata": {},
   "source": [
    "# Работа нейросети"
   ]
  },
  {
   "cell_type": "code",
   "execution_count": 3,
   "metadata": {
    "id": "co5dr5BBR-Kc"
   },
   "outputs": [],
   "source": [
    "from sklearn import datasets\n",
    "import seaborn as sns\n",
    "import matplotlib.pyplot as plt\n",
    "import pandas as pd\n",
    "\n",
    "%matplotlib inline"
   ]
  },
  {
   "cell_type": "markdown",
   "metadata": {},
   "source": [
    "## Загрязнение в Индии\n",
    "https://www.kaggle.com/adityadeshpande23/pollution-india-2010"
   ]
  },
  {
   "cell_type": "markdown",
   "metadata": {},
   "source": [
    "### Содержательная постановка задачи\n",
    "Правительство Индии хочет улучшить экологию в стране путём продения серии проектов в данной сфере. Для более эффективного внедрения проектов предполагается разделение городов на группы со схожим экологическим положением, это позволит использовать одни и теже наработки в пределах группы городов с одинаковой эффективностью, что позволит снизить расходы на разработку проектов за счёт необходимости в меньшем количестве исследований.\n",
    "Деление на группы будет происходить на основании состава воздуха в городах.\n",
    "\n",
    "Даны результаты измерения концентрации загрязняющих веществ в различных городах, представленных следующим перечнем:\n",
    "\n",
    "* NO2 - Оксид азота (мкг/м3).\n",
    "* PM10 - частицы того или иного твёрдого вещества диаметром от 10 микрометра (мкм) и меньше (мкг/м3).\n",
    "* SO2 - Оксид серы (мкг/м3).\n",
    "\n",
    "Требуется провести разделение городов на группы с целью повышения оптимальности принятия управленческих решений в сфере экологии"
   ]
  },
  {
   "cell_type": "code",
   "execution_count": 4,
   "metadata": {},
   "outputs": [],
   "source": [
    "clust_df = pd.read_csv(\"pollution_india_2010 (1).csv\", na_values=[\"Null\"])"
   ]
  },
  {
   "cell_type": "code",
   "execution_count": 28,
   "metadata": {},
   "outputs": [
    {
     "data": {
      "text/html": [
       "<div>\n",
       "<style scoped>\n",
       "    .dataframe tbody tr th:only-of-type {\n",
       "        vertical-align: middle;\n",
       "    }\n",
       "\n",
       "    .dataframe tbody tr th {\n",
       "        vertical-align: top;\n",
       "    }\n",
       "\n",
       "    .dataframe thead th {\n",
       "        text-align: right;\n",
       "    }\n",
       "</style>\n",
       "<table border=\"1\" class=\"dataframe\">\n",
       "  <thead>\n",
       "    <tr style=\"text-align: right;\">\n",
       "      <th></th>\n",
       "      <th>City</th>\n",
       "      <th>NO2</th>\n",
       "      <th>PM10</th>\n",
       "      <th>SO2</th>\n",
       "      <th>State</th>\n",
       "    </tr>\n",
       "  </thead>\n",
       "  <tbody>\n",
       "    <tr>\n",
       "      <th>0</th>\n",
       "      <td>Chitoor</td>\n",
       "      <td>9.0</td>\n",
       "      <td>39.0</td>\n",
       "      <td>4.0</td>\n",
       "      <td>Andhra Pradesh</td>\n",
       "    </tr>\n",
       "    <tr>\n",
       "      <th>1</th>\n",
       "      <td>Guntur</td>\n",
       "      <td>11.0</td>\n",
       "      <td>81.0</td>\n",
       "      <td>2.0</td>\n",
       "      <td>Andhra Pradesh</td>\n",
       "    </tr>\n",
       "    <tr>\n",
       "      <th>2</th>\n",
       "      <td>Hydrabad</td>\n",
       "      <td>24.0</td>\n",
       "      <td>79.0</td>\n",
       "      <td>5.0</td>\n",
       "      <td>Andhra Pradesh</td>\n",
       "    </tr>\n",
       "    <tr>\n",
       "      <th>3</th>\n",
       "      <td>Kothagudem</td>\n",
       "      <td>11.0</td>\n",
       "      <td>62.0</td>\n",
       "      <td>2.0</td>\n",
       "      <td>Andhra Pradesh</td>\n",
       "    </tr>\n",
       "    <tr>\n",
       "      <th>4</th>\n",
       "      <td>Kurnool</td>\n",
       "      <td>9.0</td>\n",
       "      <td>85.0</td>\n",
       "      <td>4.0</td>\n",
       "      <td>Andhra Pradesh</td>\n",
       "    </tr>\n",
       "  </tbody>\n",
       "</table>\n",
       "</div>"
      ],
      "text/plain": [
       "         City   NO2  PM10  SO2           State\n",
       "0     Chitoor   9.0  39.0  4.0  Andhra Pradesh\n",
       "1      Guntur  11.0  81.0  2.0  Andhra Pradesh\n",
       "2    Hydrabad  24.0  79.0  5.0  Andhra Pradesh\n",
       "3  Kothagudem  11.0  62.0  2.0  Andhra Pradesh\n",
       "4     Kurnool   9.0  85.0  4.0  Andhra Pradesh"
      ]
     },
     "execution_count": 28,
     "metadata": {},
     "output_type": "execute_result"
    }
   ],
   "source": [
    "clust_df.head()"
   ]
  },
  {
   "cell_type": "code",
   "execution_count": 38,
   "metadata": {},
   "outputs": [
    {
     "data": {
      "text/plain": [
       "<seaborn.axisgrid.PairGrid at 0x2248f641400>"
      ]
     },
     "execution_count": 38,
     "metadata": {},
     "output_type": "execute_result"
    },
    {
     "data": {
      "image/png": "[encoded data removed]",
      "text/plain": [
       "<Figure size 696.375x540 with 12 Axes>"
      ]
     },
     "metadata": {
      "needs_background": "light"
     },
     "output_type": "display_data"
    }
   ],
   "source": [
    "sns.pairplot(data=clust_df, hue='State', diag_kind ='hist')"
   ]
  },
  {
   "cell_type": "markdown",
   "metadata": {},
   "source": [
    "### Изунение исходных данных"
   ]
  },
  {
   "cell_type": "markdown",
   "metadata": {},
   "source": [
    "#### Устранение пропусков "
   ]
  },
  {
   "cell_type": "code",
   "execution_count": 39,
   "metadata": {},
   "outputs": [
    {
     "name": "stdout",
     "output_type": "stream",
     "text": [
      "<class 'pandas.core.frame.DataFrame'>\n",
      "RangeIndex: 181 entries, 0 to 180\n",
      "Data columns (total 5 columns):\n",
      " #   Column  Non-Null Count  Dtype  \n",
      "---  ------  --------------  -----  \n",
      " 0   City    181 non-null    object \n",
      " 1   NO2     177 non-null    float64\n",
      " 2   PM10    180 non-null    float64\n",
      " 3   SO2     176 non-null    float64\n",
      " 4   State   181 non-null    object \n",
      "dtypes: float64(3), object(2)\n",
      "memory usage: 7.2+ KB\n"
     ]
    }
   ],
   "source": [
    "clust_df.info()"
   ]
  },
  {
   "cell_type": "markdown",
   "metadata": {},
   "source": [
    "--- "
   ]
  },
  {
   "cell_type": "markdown",
   "metadata": {},
   "source": [
    "Для устранения пропусков было решено взять средние значения по административной единице"
   ]
  },
  {
   "cell_type": "code",
   "execution_count": 5,
   "metadata": {},
   "outputs": [],
   "source": [
    "clear_df = clust_df.groupby('State').transform(lambda x: x.fillna(x.mean()))"
   ]
  },
  {
   "cell_type": "code",
   "execution_count": 41,
   "metadata": {},
   "outputs": [
    {
     "name": "stdout",
     "output_type": "stream",
     "text": [
      "<class 'pandas.core.frame.DataFrame'>\n",
      "RangeIndex: 181 entries, 0 to 180\n",
      "Data columns (total 3 columns):\n",
      " #   Column  Non-Null Count  Dtype  \n",
      "---  ------  --------------  -----  \n",
      " 0   NO2     181 non-null    float64\n",
      " 1   PM10    181 non-null    float64\n",
      " 2   SO2     181 non-null    float64\n",
      "dtypes: float64(3)\n",
      "memory usage: 4.4 KB\n"
     ]
    }
   ],
   "source": [
    "clear_df.info()"
   ]
  },
  {
   "cell_type": "markdown",
   "metadata": {},
   "source": [
    "---"
   ]
  },
  {
   "cell_type": "markdown",
   "metadata": {},
   "source": [
    "Пропуски устранены, в датасете остались только числовые поля, необходимые для обучения"
   ]
  },
  {
   "cell_type": "markdown",
   "metadata": {},
   "source": [
    "#### Выведем матрицу объект объект"
   ]
  },
  {
   "cell_type": "code",
   "execution_count": 16,
   "metadata": {},
   "outputs": [
    {
     "data": {
      "text/html": [
       "<div>\n",
       "<style scoped>\n",
       "    .dataframe tbody tr th:only-of-type {\n",
       "        vertical-align: middle;\n",
       "    }\n",
       "\n",
       "    .dataframe tbody tr th {\n",
       "        vertical-align: top;\n",
       "    }\n",
       "\n",
       "    .dataframe thead th {\n",
       "        text-align: right;\n",
       "    }\n",
       "</style>\n",
       "<table border=\"1\" class=\"dataframe\">\n",
       "  <thead>\n",
       "    <tr style=\"text-align: right;\">\n",
       "      <th></th>\n",
       "      <th>0</th>\n",
       "      <th>1</th>\n",
       "      <th>2</th>\n",
       "      <th>3</th>\n",
       "      <th>4</th>\n",
       "      <th>5</th>\n",
       "      <th>6</th>\n",
       "      <th>7</th>\n",
       "      <th>8</th>\n",
       "      <th>9</th>\n",
       "      <th>...</th>\n",
       "      <th>171</th>\n",
       "      <th>172</th>\n",
       "      <th>173</th>\n",
       "      <th>174</th>\n",
       "      <th>175</th>\n",
       "      <th>176</th>\n",
       "      <th>177</th>\n",
       "      <th>178</th>\n",
       "      <th>179</th>\n",
       "      <th>180</th>\n",
       "    </tr>\n",
       "  </thead>\n",
       "  <tbody>\n",
       "    <tr>\n",
       "      <th>0</th>\n",
       "      <td>0.000000</td>\n",
       "      <td>42.095130</td>\n",
       "      <td>42.731721</td>\n",
       "      <td>23.173260</td>\n",
       "      <td>46.000000</td>\n",
       "      <td>48.093659</td>\n",
       "      <td>26.248809</td>\n",
       "      <td>40.174619</td>\n",
       "      <td>29.154759</td>\n",
       "      <td>2.000000</td>\n",
       "      <td>...</td>\n",
       "      <td>175.914752</td>\n",
       "      <td>116.914499</td>\n",
       "      <td>104.942842</td>\n",
       "      <td>116.914499</td>\n",
       "      <td>47.675990</td>\n",
       "      <td>103.252119</td>\n",
       "      <td>80.361682</td>\n",
       "      <td>131.651054</td>\n",
       "      <td>83.024093</td>\n",
       "      <td>63.773035</td>\n",
       "    </tr>\n",
       "    <tr>\n",
       "      <th>1</th>\n",
       "      <td>42.095130</td>\n",
       "      <td>0.000000</td>\n",
       "      <td>13.490738</td>\n",
       "      <td>19.000000</td>\n",
       "      <td>4.898979</td>\n",
       "      <td>13.000000</td>\n",
       "      <td>16.031220</td>\n",
       "      <td>15.811388</td>\n",
       "      <td>13.190906</td>\n",
       "      <td>44.090815</td>\n",
       "      <td>...</td>\n",
       "      <td>134.899963</td>\n",
       "      <td>81.614950</td>\n",
       "      <td>75.292762</td>\n",
       "      <td>81.614950</td>\n",
       "      <td>49.000000</td>\n",
       "      <td>74.598928</td>\n",
       "      <td>54.827001</td>\n",
       "      <td>93.936149</td>\n",
       "      <td>57.801384</td>\n",
       "      <td>45.287967</td>\n",
       "    </tr>\n",
       "    <tr>\n",
       "      <th>2</th>\n",
       "      <td>42.731721</td>\n",
       "      <td>13.490738</td>\n",
       "      <td>0.000000</td>\n",
       "      <td>21.610183</td>\n",
       "      <td>16.186414</td>\n",
       "      <td>6.082763</td>\n",
       "      <td>18.681542</td>\n",
       "      <td>6.782330</td>\n",
       "      <td>16.309506</td>\n",
       "      <td>44.609416</td>\n",
       "      <td>...</td>\n",
       "      <td>135.107365</td>\n",
       "      <td>74.946648</td>\n",
       "      <td>65.673435</td>\n",
       "      <td>74.946648</td>\n",
       "      <td>36.728735</td>\n",
       "      <td>64.583280</td>\n",
       "      <td>43.358967</td>\n",
       "      <td>89.050547</td>\n",
       "      <td>46.335731</td>\n",
       "      <td>32.202484</td>\n",
       "    </tr>\n",
       "    <tr>\n",
       "      <th>3</th>\n",
       "      <td>23.173260</td>\n",
       "      <td>19.000000</td>\n",
       "      <td>21.610183</td>\n",
       "      <td>0.000000</td>\n",
       "      <td>23.173260</td>\n",
       "      <td>26.115130</td>\n",
       "      <td>3.162278</td>\n",
       "      <td>20.518285</td>\n",
       "      <td>6.403124</td>\n",
       "      <td>25.159491</td>\n",
       "      <td>...</td>\n",
       "      <td>153.417730</td>\n",
       "      <td>96.446877</td>\n",
       "      <td>86.890736</td>\n",
       "      <td>96.446877</td>\n",
       "      <td>43.011626</td>\n",
       "      <td>85.627099</td>\n",
       "      <td>63.647467</td>\n",
       "      <td>110.222502</td>\n",
       "      <td>66.513157</td>\n",
       "      <td>49.497475</td>\n",
       "    </tr>\n",
       "    <tr>\n",
       "      <th>4</th>\n",
       "      <td>46.000000</td>\n",
       "      <td>4.898979</td>\n",
       "      <td>16.186414</td>\n",
       "      <td>23.173260</td>\n",
       "      <td>0.000000</td>\n",
       "      <td>14.035669</td>\n",
       "      <td>20.322401</td>\n",
       "      <td>18.055470</td>\n",
       "      <td>17.262677</td>\n",
       "      <td>48.000000</td>\n",
       "      <td>...</td>\n",
       "      <td>130.942736</td>\n",
       "      <td>80.006250</td>\n",
       "      <td>74.732858</td>\n",
       "      <td>80.006250</td>\n",
       "      <td>52.278102</td>\n",
       "      <td>74.222638</td>\n",
       "      <td>55.263008</td>\n",
       "      <td>91.695147</td>\n",
       "      <td>58.283788</td>\n",
       "      <td>47.191101</td>\n",
       "    </tr>\n",
       "    <tr>\n",
       "      <th>...</th>\n",
       "      <td>...</td>\n",
       "      <td>...</td>\n",
       "      <td>...</td>\n",
       "      <td>...</td>\n",
       "      <td>...</td>\n",
       "      <td>...</td>\n",
       "      <td>...</td>\n",
       "      <td>...</td>\n",
       "      <td>...</td>\n",
       "      <td>...</td>\n",
       "      <td>...</td>\n",
       "      <td>...</td>\n",
       "      <td>...</td>\n",
       "      <td>...</td>\n",
       "      <td>...</td>\n",
       "      <td>...</td>\n",
       "      <td>...</td>\n",
       "      <td>...</td>\n",
       "      <td>...</td>\n",
       "      <td>...</td>\n",
       "      <td>...</td>\n",
       "    </tr>\n",
       "    <tr>\n",
       "      <th>176</th>\n",
       "      <td>103.252119</td>\n",
       "      <td>74.598928</td>\n",
       "      <td>64.583280</td>\n",
       "      <td>85.627099</td>\n",
       "      <td>74.222638</td>\n",
       "      <td>61.983869</td>\n",
       "      <td>82.933708</td>\n",
       "      <td>66.850580</td>\n",
       "      <td>80.826976</td>\n",
       "      <td>104.790267</td>\n",
       "      <td>...</td>\n",
       "      <td>105.437185</td>\n",
       "      <td>25.019992</td>\n",
       "      <td>3.162278</td>\n",
       "      <td>25.019992</td>\n",
       "      <td>65.222695</td>\n",
       "      <td>0.000000</td>\n",
       "      <td>23.043437</td>\n",
       "      <td>42.906876</td>\n",
       "      <td>20.688161</td>\n",
       "      <td>41.012193</td>\n",
       "    </tr>\n",
       "    <tr>\n",
       "      <th>177</th>\n",
       "      <td>80.361682</td>\n",
       "      <td>54.827001</td>\n",
       "      <td>43.358967</td>\n",
       "      <td>63.647467</td>\n",
       "      <td>55.263008</td>\n",
       "      <td>41.868843</td>\n",
       "      <td>61.131007</td>\n",
       "      <td>45.276926</td>\n",
       "      <td>59.245253</td>\n",
       "      <td>81.865744</td>\n",
       "      <td>...</td>\n",
       "      <td>118.667603</td>\n",
       "      <td>42.296572</td>\n",
       "      <td>25.079872</td>\n",
       "      <td>42.296572</td>\n",
       "      <td>43.278170</td>\n",
       "      <td>23.043437</td>\n",
       "      <td>0.000000</td>\n",
       "      <td>60.083276</td>\n",
       "      <td>3.316625</td>\n",
       "      <td>18.466185</td>\n",
       "    </tr>\n",
       "    <tr>\n",
       "      <th>178</th>\n",
       "      <td>131.651054</td>\n",
       "      <td>93.936149</td>\n",
       "      <td>89.050547</td>\n",
       "      <td>110.222502</td>\n",
       "      <td>91.695147</td>\n",
       "      <td>84.172442</td>\n",
       "      <td>107.112091</td>\n",
       "      <td>92.184597</td>\n",
       "      <td>104.393486</td>\n",
       "      <td>133.476590</td>\n",
       "      <td>...</td>\n",
       "      <td>65.559134</td>\n",
       "      <td>18.248288</td>\n",
       "      <td>39.761791</td>\n",
       "      <td>18.248288</td>\n",
       "      <td>102.766726</td>\n",
       "      <td>42.906876</td>\n",
       "      <td>60.083276</td>\n",
       "      <td>0.000000</td>\n",
       "      <td>59.067758</td>\n",
       "      <td>77.323994</td>\n",
       "    </tr>\n",
       "    <tr>\n",
       "      <th>179</th>\n",
       "      <td>83.024093</td>\n",
       "      <td>57.801384</td>\n",
       "      <td>46.335731</td>\n",
       "      <td>66.513157</td>\n",
       "      <td>58.283788</td>\n",
       "      <td>44.877611</td>\n",
       "      <td>64.015623</td>\n",
       "      <td>48.383882</td>\n",
       "      <td>62.201286</td>\n",
       "      <td>84.504438</td>\n",
       "      <td>...</td>\n",
       "      <td>118.713942</td>\n",
       "      <td>41.060930</td>\n",
       "      <td>22.934690</td>\n",
       "      <td>41.060930</td>\n",
       "      <td>45.099889</td>\n",
       "      <td>20.688161</td>\n",
       "      <td>3.316625</td>\n",
       "      <td>59.067758</td>\n",
       "      <td>0.000000</td>\n",
       "      <td>20.346990</td>\n",
       "    </tr>\n",
       "    <tr>\n",
       "      <th>180</th>\n",
       "      <td>63.773035</td>\n",
       "      <td>45.287967</td>\n",
       "      <td>32.202484</td>\n",
       "      <td>49.497475</td>\n",
       "      <td>47.191101</td>\n",
       "      <td>33.196385</td>\n",
       "      <td>47.434165</td>\n",
       "      <td>33.778692</td>\n",
       "      <td>46.270941</td>\n",
       "      <td>65.138314</td>\n",
       "      <td>...</td>\n",
       "      <td>134.227419</td>\n",
       "      <td>59.849812</td>\n",
       "      <td>43.243497</td>\n",
       "      <td>59.849812</td>\n",
       "      <td>26.267851</td>\n",
       "      <td>41.012193</td>\n",
       "      <td>18.466185</td>\n",
       "      <td>77.323994</td>\n",
       "      <td>20.346990</td>\n",
       "      <td>0.000000</td>\n",
       "    </tr>\n",
       "  </tbody>\n",
       "</table>\n",
       "<p>181 rows × 181 columns</p>\n",
       "</div>"
      ],
      "text/plain": [
       "            0          1          2           3          4          5    \\\n",
       "0      0.000000  42.095130  42.731721   23.173260  46.000000  48.093659   \n",
       "1     42.095130   0.000000  13.490738   19.000000   4.898979  13.000000   \n",
       "2     42.731721  13.490738   0.000000   21.610183  16.186414   6.082763   \n",
       "3     23.173260  19.000000  21.610183    0.000000  23.173260  26.115130   \n",
       "4     46.000000   4.898979  16.186414   23.173260   0.000000  14.035669   \n",
       "..          ...        ...        ...         ...        ...        ...   \n",
       "176  103.252119  74.598928  64.583280   85.627099  74.222638  61.983869   \n",
       "177   80.361682  54.827001  43.358967   63.647467  55.263008  41.868843   \n",
       "178  131.651054  93.936149  89.050547  110.222502  91.695147  84.172442   \n",
       "179   83.024093  57.801384  46.335731   66.513157  58.283788  44.877611   \n",
       "180   63.773035  45.287967  32.202484   49.497475  47.191101  33.196385   \n",
       "\n",
       "            6          7           8           9    ...         171  \\\n",
       "0     26.248809  40.174619   29.154759    2.000000  ...  175.914752   \n",
       "1     16.031220  15.811388   13.190906   44.090815  ...  134.899963   \n",
       "2     18.681542   6.782330   16.309506   44.609416  ...  135.107365   \n",
       "3      3.162278  20.518285    6.403124   25.159491  ...  153.417730   \n",
       "4     20.322401  18.055470   17.262677   48.000000  ...  130.942736   \n",
       "..          ...        ...         ...         ...  ...         ...   \n",
       "176   82.933708  66.850580   80.826976  104.790267  ...  105.437185   \n",
       "177   61.131007  45.276926   59.245253   81.865744  ...  118.667603   \n",
       "178  107.112091  92.184597  104.393486  133.476590  ...   65.559134   \n",
       "179   64.015623  48.383882   62.201286   84.504438  ...  118.713942   \n",
       "180   47.434165  33.778692   46.270941   65.138314  ...  134.227419   \n",
       "\n",
       "            172         173         174         175         176        177  \\\n",
       "0    116.914499  104.942842  116.914499   47.675990  103.252119  80.361682   \n",
       "1     81.614950   75.292762   81.614950   49.000000   74.598928  54.827001   \n",
       "2     74.946648   65.673435   74.946648   36.728735   64.583280  43.358967   \n",
       "3     96.446877   86.890736   96.446877   43.011626   85.627099  63.647467   \n",
       "4     80.006250   74.732858   80.006250   52.278102   74.222638  55.263008   \n",
       "..          ...         ...         ...         ...         ...        ...   \n",
       "176   25.019992    3.162278   25.019992   65.222695    0.000000  23.043437   \n",
       "177   42.296572   25.079872   42.296572   43.278170   23.043437   0.000000   \n",
       "178   18.248288   39.761791   18.248288  102.766726   42.906876  60.083276   \n",
       "179   41.060930   22.934690   41.060930   45.099889   20.688161   3.316625   \n",
       "180   59.849812   43.243497   59.849812   26.267851   41.012193  18.466185   \n",
       "\n",
       "            178        179        180  \n",
       "0    131.651054  83.024093  63.773035  \n",
       "1     93.936149  57.801384  45.287967  \n",
       "2     89.050547  46.335731  32.202484  \n",
       "3    110.222502  66.513157  49.497475  \n",
       "4     91.695147  58.283788  47.191101  \n",
       "..          ...        ...        ...  \n",
       "176   42.906876  20.688161  41.012193  \n",
       "177   60.083276   3.316625  18.466185  \n",
       "178    0.000000  59.067758  77.323994  \n",
       "179   59.067758   0.000000  20.346990  \n",
       "180   77.323994  20.346990   0.000000  \n",
       "\n",
       "[181 rows x 181 columns]"
      ]
     },
     "execution_count": 16,
     "metadata": {},
     "output_type": "execute_result"
    }
   ],
   "source": [
    "from sklearn.metrics.pairwise import euclidean_distances\n",
    "o_o_matrix = euclidean_distances(x,x)\n",
    "pd.DataFrame(o_o_matrix)"
   ]
  },
  {
   "cell_type": "markdown",
   "metadata": {},
   "source": [
    "#### Матрица объект признак"
   ]
  },
  {
   "cell_type": "code",
   "execution_count": 18,
   "metadata": {},
   "outputs": [
    {
     "data": {
      "text/html": [
       "<div>\n",
       "<style scoped>\n",
       "    .dataframe tbody tr th:only-of-type {\n",
       "        vertical-align: middle;\n",
       "    }\n",
       "\n",
       "    .dataframe tbody tr th {\n",
       "        vertical-align: top;\n",
       "    }\n",
       "\n",
       "    .dataframe thead th {\n",
       "        text-align: right;\n",
       "    }\n",
       "</style>\n",
       "<table border=\"1\" class=\"dataframe\">\n",
       "  <thead>\n",
       "    <tr style=\"text-align: right;\">\n",
       "      <th></th>\n",
       "      <th>Признак_0</th>\n",
       "      <th>Признак_1</th>\n",
       "      <th>Признак_2</th>\n",
       "    </tr>\n",
       "  </thead>\n",
       "  <tbody>\n",
       "    <tr>\n",
       "      <th>Объект_0</th>\n",
       "      <td>9.0</td>\n",
       "      <td>39.0</td>\n",
       "      <td>4.0</td>\n",
       "    </tr>\n",
       "    <tr>\n",
       "      <th>Объект_1</th>\n",
       "      <td>11.0</td>\n",
       "      <td>81.0</td>\n",
       "      <td>2.0</td>\n",
       "    </tr>\n",
       "    <tr>\n",
       "      <th>Объект_2</th>\n",
       "      <td>24.0</td>\n",
       "      <td>79.0</td>\n",
       "      <td>5.0</td>\n",
       "    </tr>\n",
       "    <tr>\n",
       "      <th>Объект_3</th>\n",
       "      <td>11.0</td>\n",
       "      <td>62.0</td>\n",
       "      <td>2.0</td>\n",
       "    </tr>\n",
       "    <tr>\n",
       "      <th>Объект_4</th>\n",
       "      <td>9.0</td>\n",
       "      <td>85.0</td>\n",
       "      <td>4.0</td>\n",
       "    </tr>\n",
       "    <tr>\n",
       "      <th>...</th>\n",
       "      <td>...</td>\n",
       "      <td>...</td>\n",
       "      <td>...</td>\n",
       "    </tr>\n",
       "    <tr>\n",
       "      <th>Объект_176</th>\n",
       "      <td>75.0</td>\n",
       "      <td>118.0</td>\n",
       "      <td>12.0</td>\n",
       "    </tr>\n",
       "    <tr>\n",
       "      <th>Объект_177</th>\n",
       "      <td>62.0</td>\n",
       "      <td>99.0</td>\n",
       "      <td>11.0</td>\n",
       "    </tr>\n",
       "    <tr>\n",
       "      <th>Объект_178</th>\n",
       "      <td>63.0</td>\n",
       "      <td>159.0</td>\n",
       "      <td>8.0</td>\n",
       "    </tr>\n",
       "    <tr>\n",
       "      <th>Объект_179</th>\n",
       "      <td>65.0</td>\n",
       "      <td>100.0</td>\n",
       "      <td>10.0</td>\n",
       "    </tr>\n",
       "    <tr>\n",
       "      <th>Объект_180</th>\n",
       "      <td>56.0</td>\n",
       "      <td>82.0</td>\n",
       "      <td>7.0</td>\n",
       "    </tr>\n",
       "  </tbody>\n",
       "</table>\n",
       "<p>181 rows × 3 columns</p>\n",
       "</div>"
      ],
      "text/plain": [
       "            Признак_0  Признак_1  Признак_2\n",
       "Объект_0          9.0       39.0        4.0\n",
       "Объект_1         11.0       81.0        2.0\n",
       "Объект_2         24.0       79.0        5.0\n",
       "Объект_3         11.0       62.0        2.0\n",
       "Объект_4          9.0       85.0        4.0\n",
       "...               ...        ...        ...\n",
       "Объект_176       75.0      118.0       12.0\n",
       "Объект_177       62.0       99.0       11.0\n",
       "Объект_178       63.0      159.0        8.0\n",
       "Объект_179       65.0      100.0       10.0\n",
       "Объект_180       56.0       82.0        7.0\n",
       "\n",
       "[181 rows x 3 columns]"
      ]
     },
     "execution_count": 18,
     "metadata": {},
     "output_type": "execute_result"
    }
   ],
   "source": [
    "pd.DataFrame(data=x, index=[\"Объект_\"+str(i) for i in range(x.shape[0])], columns=[\"Признак_\"+str(i) for i in range(x.shape[1])])"
   ]
  },
  {
   "cell_type": "markdown",
   "metadata": {},
   "source": [
    "### Обучение сети "
   ]
  },
  {
   "cell_type": "code",
   "execution_count": 9,
   "metadata": {},
   "outputs": [],
   "source": [
    "x = clear_df.values  # получение из датасета непосредственно числовых значений без метаинформации"
   ]
  },
  {
   "cell_type": "code",
   "execution_count": 43,
   "metadata": {},
   "outputs": [
    {
     "name": "stdout",
     "output_type": "stream",
     "text": [
      "start time is: 16:59:5\n",
      "нейронов: 2 || метрика: 0.6256909727836447 || (эпоха, скорость): (10, 0.3) || уникальных кластеров: 2 || (16:59:45)\n",
      "нейронов: 3 || метрика: 0.60948040457977 || (эпоха, скорость): (11, 0.7) || уникальных кластеров: 2 || (17:0:29)\n",
      "нейронов: 4 || метрика: 0.6049957519737308 || (эпоха, скорость): (8, 0.7) || уникальных кластеров: 2 || (17:1:26)\n",
      "нейронов: 5 || метрика: 0.5480010934376055 || (эпоха, скорость): (5, 0.8) || уникальных кластеров: 2 || (17:2:30)\n",
      "нейронов: 6 || метрика: 0.6054042888509885 || (эпоха, скорость): (4, 0.8) || уникальных кластеров: 2 || (17:3:47)\n",
      "нейронов: 7 || метрика: 0.49975611056899355 || (эпоха, скорость): (11, 0.6) || уникальных кластеров: 3 || (17:5:6)\n",
      "нейронов: 8 || метрика: 0.4862911489473782 || (эпоха, скорость): (12, 0.8) || уникальных кластеров: 3 || (17:6:30)\n",
      "нейронов: 9 || метрика: 0.6051326424103148 || (эпоха, скорость): (8, 0.6) || уникальных кластеров: 2 || (17:8:4)\n",
      "нейронов: 10 || метрика: 0.42001445781231195 || (эпоха, скорость): (11, 0.8) || уникальных кластеров: 4 || (17:9:48)\n"
     ]
    }
   ],
   "source": [
    "res = train(x)"
   ]
  },
  {
   "cell_type": "markdown",
   "metadata": {},
   "source": [
    "---"
   ]
  },
  {
   "cell_type": "markdown",
   "metadata": {},
   "source": [
    "Особенность работы алгоритма в том, что количество нейронов говорит о максимальном возможном количестве выделенных кластеров.Из вывода обучающей функции можно сделать вывод о том, что фактически в данных присутствуют только две группы образцов\n"
   ]
  },
  {
   "cell_type": "code",
   "execution_count": 87,
   "metadata": {},
   "outputs": [],
   "source": [
    "# Сохранение результатов обучения в файл\n",
    "import pickle\n",
    "with open('res', 'wb') as res_file:\n",
    "    pickle.dump(res, res_file)"
   ]
  },
  {
   "cell_type": "markdown",
   "metadata": {},
   "source": [
    "### Изучение результатов работы алгоритма\n",
    "Для этого возьмём модель с наилуйшим значением метрики и разметим исходные данные"
   ]
  },
  {
   "cell_type": "code",
   "execution_count": null,
   "metadata": {},
   "outputs": [],
   "source": [
    "import pickle\n",
    "with open('res', 'rb') as res_file:\n",
    "    pickle.load(res, res_file)"
   ]
  },
  {
   "cell_type": "code",
   "execution_count": 48,
   "metadata": {},
   "outputs": [],
   "source": [
    "best_k = res[0][-2]"
   ]
  },
  {
   "cell_type": "code",
   "execution_count": 52,
   "metadata": {},
   "outputs": [],
   "source": [
    "clusted_df = clust_df.assign(cluster=list(map(best_k.pred, x)))"
   ]
  },
  {
   "cell_type": "code",
   "execution_count": 53,
   "metadata": {},
   "outputs": [
    {
     "data": {
      "text/plain": [
       "<seaborn.axisgrid.PairGrid at 0x22491f356d0>"
      ]
     },
     "execution_count": 53,
     "metadata": {},
     "output_type": "execute_result"
    },
    {
     "data": {
      "image/png": "[encoded data removed]",
      "text/plain": [
       "<Figure size 582.375x540 with 12 Axes>"
      ]
     },
     "metadata": {
      "needs_background": "light"
     },
     "output_type": "display_data"
    }
   ],
   "source": [
    "sns.pairplot(data=clusted_df, hue='cluster', diag_kind ='hist')"
   ]
  },
  {
   "cell_type": "markdown",
   "metadata": {},
   "source": [
    "На графиках некоторых зависимостей можно наблюдай явное разделение образцов, без пересечений"
   ]
  },
  {
   "cell_type": "markdown",
   "metadata": {},
   "source": [
    "Изучим данные в каждой отдельной группе"
   ]
  },
  {
   "cell_type": "code",
   "execution_count": 60,
   "metadata": {},
   "outputs": [
    {
     "name": "stdout",
     "output_type": "stream",
     "text": [
      "len(clust_0_df)=139  || len(clust_1_df)=42\n"
     ]
    }
   ],
   "source": [
    "clust_0_df = clusted_df[clusted_df.cluster == 0]\n",
    "clust_1_df = clusted_df[clusted_df.cluster == 1]"
   ]
  },
  {
   "cell_type": "code",
   "execution_count": 59,
   "metadata": {},
   "outputs": [
    {
     "data": {
      "text/html": [
       "<div>\n",
       "<style scoped>\n",
       "    .dataframe tbody tr th:only-of-type {\n",
       "        vertical-align: middle;\n",
       "    }\n",
       "\n",
       "    .dataframe tbody tr th {\n",
       "        vertical-align: top;\n",
       "    }\n",
       "\n",
       "    .dataframe thead th {\n",
       "        text-align: right;\n",
       "    }\n",
       "</style>\n",
       "<table border=\"1\" class=\"dataframe\">\n",
       "  <thead>\n",
       "    <tr style=\"text-align: right;\">\n",
       "      <th></th>\n",
       "      <th>NO2</th>\n",
       "      <th>PM10</th>\n",
       "      <th>SO2</th>\n",
       "      <th>cluster</th>\n",
       "    </tr>\n",
       "  </thead>\n",
       "  <tbody>\n",
       "    <tr>\n",
       "      <th>count</th>\n",
       "      <td>137.000000</td>\n",
       "      <td>139.000000</td>\n",
       "      <td>137.000000</td>\n",
       "      <td>139.0</td>\n",
       "    </tr>\n",
       "    <tr>\n",
       "      <th>mean</th>\n",
       "      <td>21.496350</td>\n",
       "      <td>80.172662</td>\n",
       "      <td>8.948905</td>\n",
       "      <td>0.0</td>\n",
       "    </tr>\n",
       "    <tr>\n",
       "      <th>std</th>\n",
       "      <td>13.970096</td>\n",
       "      <td>28.333400</td>\n",
       "      <td>7.920860</td>\n",
       "      <td>0.0</td>\n",
       "    </tr>\n",
       "    <tr>\n",
       "      <th>min</th>\n",
       "      <td>5.000000</td>\n",
       "      <td>27.000000</td>\n",
       "      <td>2.000000</td>\n",
       "      <td>0.0</td>\n",
       "    </tr>\n",
       "    <tr>\n",
       "      <th>25%</th>\n",
       "      <td>13.000000</td>\n",
       "      <td>58.500000</td>\n",
       "      <td>4.000000</td>\n",
       "      <td>0.0</td>\n",
       "    </tr>\n",
       "    <tr>\n",
       "      <th>50%</th>\n",
       "      <td>18.000000</td>\n",
       "      <td>79.000000</td>\n",
       "      <td>7.000000</td>\n",
       "      <td>0.0</td>\n",
       "    </tr>\n",
       "    <tr>\n",
       "      <th>75%</th>\n",
       "      <td>25.000000</td>\n",
       "      <td>99.500000</td>\n",
       "      <td>12.000000</td>\n",
       "      <td>0.0</td>\n",
       "    </tr>\n",
       "    <tr>\n",
       "      <th>max</th>\n",
       "      <td>75.000000</td>\n",
       "      <td>144.000000</td>\n",
       "      <td>60.000000</td>\n",
       "      <td>0.0</td>\n",
       "    </tr>\n",
       "  </tbody>\n",
       "</table>\n",
       "</div>"
      ],
      "text/plain": [
       "              NO2        PM10         SO2  cluster\n",
       "count  137.000000  139.000000  137.000000    139.0\n",
       "mean    21.496350   80.172662    8.948905      0.0\n",
       "std     13.970096   28.333400    7.920860      0.0\n",
       "min      5.000000   27.000000    2.000000      0.0\n",
       "25%     13.000000   58.500000    4.000000      0.0\n",
       "50%     18.000000   79.000000    7.000000      0.0\n",
       "75%     25.000000   99.500000   12.000000      0.0\n",
       "max     75.000000  144.000000   60.000000      0.0"
      ]
     },
     "execution_count": 59,
     "metadata": {},
     "output_type": "execute_result"
    }
   ],
   "source": [
    "clust_0_df.describe()"
   ]
  },
  {
   "cell_type": "code",
   "execution_count": 58,
   "metadata": {},
   "outputs": [
    {
     "data": {
      "text/html": [
       "<div>\n",
       "<style scoped>\n",
       "    .dataframe tbody tr th:only-of-type {\n",
       "        vertical-align: middle;\n",
       "    }\n",
       "\n",
       "    .dataframe tbody tr th {\n",
       "        vertical-align: top;\n",
       "    }\n",
       "\n",
       "    .dataframe thead th {\n",
       "        text-align: right;\n",
       "    }\n",
       "</style>\n",
       "<table border=\"1\" class=\"dataframe\">\n",
       "  <thead>\n",
       "    <tr style=\"text-align: right;\">\n",
       "      <th></th>\n",
       "      <th>NO2</th>\n",
       "      <th>PM10</th>\n",
       "      <th>SO2</th>\n",
       "      <th>cluster</th>\n",
       "    </tr>\n",
       "  </thead>\n",
       "  <tbody>\n",
       "    <tr>\n",
       "      <th>count</th>\n",
       "      <td>40.000000</td>\n",
       "      <td>41.000000</td>\n",
       "      <td>39.000000</td>\n",
       "      <td>42.0</td>\n",
       "    </tr>\n",
       "    <tr>\n",
       "      <th>mean</th>\n",
       "      <td>33.075000</td>\n",
       "      <td>202.829268</td>\n",
       "      <td>13.564103</td>\n",
       "      <td>1.0</td>\n",
       "    </tr>\n",
       "    <tr>\n",
       "      <th>std</th>\n",
       "      <td>13.708293</td>\n",
       "      <td>43.905525</td>\n",
       "      <td>8.665706</td>\n",
       "      <td>0.0</td>\n",
       "    </tr>\n",
       "    <tr>\n",
       "      <th>min</th>\n",
       "      <td>6.000000</td>\n",
       "      <td>141.000000</td>\n",
       "      <td>3.000000</td>\n",
       "      <td>1.0</td>\n",
       "    </tr>\n",
       "    <tr>\n",
       "      <th>25%</th>\n",
       "      <td>23.750000</td>\n",
       "      <td>169.000000</td>\n",
       "      <td>8.000000</td>\n",
       "      <td>1.0</td>\n",
       "    </tr>\n",
       "    <tr>\n",
       "      <th>50%</th>\n",
       "      <td>32.500000</td>\n",
       "      <td>195.000000</td>\n",
       "      <td>10.000000</td>\n",
       "      <td>1.0</td>\n",
       "    </tr>\n",
       "    <tr>\n",
       "      <th>75%</th>\n",
       "      <td>37.250000</td>\n",
       "      <td>224.000000</td>\n",
       "      <td>17.500000</td>\n",
       "      <td>1.0</td>\n",
       "    </tr>\n",
       "    <tr>\n",
       "      <th>max</th>\n",
       "      <td>66.000000</td>\n",
       "      <td>308.000000</td>\n",
       "      <td>35.000000</td>\n",
       "      <td>1.0</td>\n",
       "    </tr>\n",
       "  </tbody>\n",
       "</table>\n",
       "</div>"
      ],
      "text/plain": [
       "             NO2        PM10        SO2  cluster\n",
       "count  40.000000   41.000000  39.000000     42.0\n",
       "mean   33.075000  202.829268  13.564103      1.0\n",
       "std    13.708293   43.905525   8.665706      0.0\n",
       "min     6.000000  141.000000   3.000000      1.0\n",
       "25%    23.750000  169.000000   8.000000      1.0\n",
       "50%    32.500000  195.000000  10.000000      1.0\n",
       "75%    37.250000  224.000000  17.500000      1.0\n",
       "max    66.000000  308.000000  35.000000      1.0"
      ]
     },
     "execution_count": 58,
     "metadata": {},
     "output_type": "execute_result"
    }
   ],
   "source": [
    "clust_1_df.describe()"
   ]
  },
  {
   "cell_type": "markdown",
   "metadata": {},
   "source": [
    "рассмотрим распределения показаний вредных веществ"
   ]
  },
  {
   "cell_type": "code",
   "execution_count": 88,
   "metadata": {},
   "outputs": [
    {
     "data": {
      "text/plain": [
       "<seaborn.axisgrid.FacetGrid at 0x224967d0eb0>"
      ]
     },
     "execution_count": 88,
     "metadata": {},
     "output_type": "execute_result"
    },
    {
     "data": {
      "image/png": "[encoded data removed]",
      "text/plain": [
       "<Figure size 402.375x360 with 1 Axes>"
      ]
     },
     "metadata": {
      "needs_background": "light"
     },
     "output_type": "display_data"
    },
    {
     "data": {
      "image/png": "[encoded data removed]",
      "text/plain": [
       "<Figure size 402.375x360 with 1 Axes>"
      ]
     },
     "metadata": {
      "needs_background": "light"
     },
     "output_type": "display_data"
    }
   ],
   "source": [
    "sns.displot(data=clusted_df, x='PM10', hue='cluster')\n",
    "sns.displot(data=clusted_df, x='NO2', hue='cluster')"
   ]
  },
  {
   "cell_type": "markdown",
   "metadata": {},
   "source": [
    "Видно, что один кластер характеризуется высокими значениями PM10, а другой наоборот -- низкими. В некоторой степени можно говорить о том, что и по уровню оксида азота (NO2) данные также делятся на два кластера, при этом наблюдается некоторое пересечение кластеров, примерно 25% значений, в некоторой степени это можно объяснить корреляцией значений друг-с-другом, причиной которой можно предположить выделение объектами, загрязняющих воздух, всех трёх веществ. "
   ]
  },
  {
   "cell_type": "code",
   "execution_count": 85,
   "metadata": {},
   "outputs": [
    {
     "data": {
      "text/html": [
       "<div>\n",
       "<style scoped>\n",
       "    .dataframe tbody tr th:only-of-type {\n",
       "        vertical-align: middle;\n",
       "    }\n",
       "\n",
       "    .dataframe tbody tr th {\n",
       "        vertical-align: top;\n",
       "    }\n",
       "\n",
       "    .dataframe thead th {\n",
       "        text-align: right;\n",
       "    }\n",
       "</style>\n",
       "<table border=\"1\" class=\"dataframe\">\n",
       "  <thead>\n",
       "    <tr style=\"text-align: right;\">\n",
       "      <th></th>\n",
       "      <th>NO2</th>\n",
       "      <th>PM10</th>\n",
       "      <th>SO2</th>\n",
       "      <th>cluster</th>\n",
       "    </tr>\n",
       "  </thead>\n",
       "  <tbody>\n",
       "    <tr>\n",
       "      <th>NO2</th>\n",
       "      <td>1.000000</td>\n",
       "      <td>0.394014</td>\n",
       "      <td>0.442424</td>\n",
       "      <td>0.330404</td>\n",
       "    </tr>\n",
       "    <tr>\n",
       "      <th>PM10</th>\n",
       "      <td>0.394014</td>\n",
       "      <td>1.000000</td>\n",
       "      <td>0.293243</td>\n",
       "      <td>0.846832</td>\n",
       "    </tr>\n",
       "    <tr>\n",
       "      <th>SO2</th>\n",
       "      <td>0.442424</td>\n",
       "      <td>0.293243</td>\n",
       "      <td>1.000000</td>\n",
       "      <td>0.231815</td>\n",
       "    </tr>\n",
       "    <tr>\n",
       "      <th>cluster</th>\n",
       "      <td>0.330404</td>\n",
       "      <td>0.846832</td>\n",
       "      <td>0.231815</td>\n",
       "      <td>1.000000</td>\n",
       "    </tr>\n",
       "  </tbody>\n",
       "</table>\n",
       "</div>"
      ],
      "text/plain": [
       "              NO2      PM10       SO2   cluster\n",
       "NO2      1.000000  0.394014  0.442424  0.330404\n",
       "PM10     0.394014  1.000000  0.293243  0.846832\n",
       "SO2      0.442424  0.293243  1.000000  0.231815\n",
       "cluster  0.330404  0.846832  0.231815  1.000000"
      ]
     },
     "execution_count": 85,
     "metadata": {},
     "output_type": "execute_result"
    }
   ],
   "source": [
    "clusted_df.corr()"
   ]
  },
  {
   "cell_type": "markdown",
   "metadata": {},
   "source": [
    "Заметна корреляция между признаками"
   ]
  },
  {
   "cell_type": "markdown",
   "metadata": {},
   "source": [
    "### Вывод\n",
    "* Совокупность населённых пунктов Индии, на основании концентрации вредных веществ в воздухе, можно разбить на два кластера, анализ данных с учётом проведённой кластеризации позволил выделить следующие отличия между группами. \n",
    "* Одна группа характеризуется высокими значениями концентрации вредных веществ, при этом главную роль в разделении играют PM10 и NO2, что можно объяснить, в том числе и корреляцией их между собой.\n",
    "* Городов в группе с высокой концентрацией вредных веществ 30% 42/139.\n",
    "* Разделение на группы позволит министерству экологии Индии вести раздельную политику для данных групп, и строить баланс распределения ресурсов для концентрации на определённой совокуности городов, объединение в группы позволит создавать комитеты из представителей городов, входящих данные группы, а также применять одни и теже проекты в пределах одной группы городов, экономя ресурсы на их разработку\n"
   ]
  }
 ],
 "metadata": {
  "colab": {
   "collapsed_sections": [],
   "name": "Kohen Clusterization.ipynb",
   "provenance": []
  },
  "kernelspec": {
   "display_name": "base",
   "language": "python",
   "name": "base"
  },
  "language_info": {
   "codemirror_mode": {
    "name": "ipython",
    "version": 3
   },
   "file_extension": ".py",
   "mimetype": "text/x-python",
   "name": "python",
   "nbconvert_exporter": "python",
   "pygments_lexer": "ipython3",
   "version": "3.9.0"
  },
  "toc-autonumbering": true,
  "toc-showtags": false
 },
 "nbformat": 4,
 "nbformat_minor": 4
}
